{
 "cells": [
  {
   "cell_type": "markdown",
   "metadata": {},
   "source": [
    "Harr-cascade classifier\n",
    "\n",
    "The source code is taken from https://www.geeksforgeeks.org/gun-detection-using-python-opencv/\n"
   ]
  },
  {
   "cell_type": "code",
   "execution_count": null,
   "metadata": {},
   "outputs": [],
   "source": [
    "pip install scikit-learn\n",
    "\n"
   ]
  },
  {
   "cell_type": "code",
   "execution_count": null,
   "metadata": {},
   "outputs": [],
   "source": [
    "pip install imutils"
   ]
  },
  {
   "cell_type": "code",
   "execution_count": null,
   "metadata": {},
   "outputs": [],
   "source": [
    "import numpy as np\n",
    "import cv2\n",
    "import imutils\n",
    "import datetime\n",
    "\n",
    "gun_cascade = cv2.CascadeClassifier(r'C:\\Users\\Sejal\\Downloads\\cascade.xml')\n",
    "camera = cv2.VideoCapture(0)\n",
    "gun_exist = False\n",
    "roi_index = 1\n",
    "\n",
    "while True:\n",
    "    ret, frame = camera.read()\n",
    "    if frame is None:\n",
    "        break\n",
    "    frame = imutils.resize(frame, width=500)\n",
    "    gray = cv2.cvtColor(frame, cv2.COLOR_BGR2GRAY)\n",
    "    gun = gun_cascade.detectMultiScale(gray, 1.3, 20, minSize=(100, 100))\n",
    "    if len(gun) > 0:\n",
    "        gun_exist = True\n",
    "    for (i, (x, y, w, h)) in enumerate(gun, 1):\n",
    "        # Draw bounding box\n",
    "        cv2.rectangle(frame, (x, y), (x + w, y + h), (255, 0, 0), 2)\n",
    "        # Save the detected ROI as a JPG image\n",
    "        roi_color = frame[y:y + h, x:x + w]\n",
    "        filename = f\"roi_image{roi_index}.jpg\"\n",
    "        cv2.imwrite(filename, roi_color)\n",
    "        # Print ROI coordinates\n",
    "        print(f\"ROI Image {roi_index}_coordinates: (x={x}, y={y}), (w={w}, h={h})\")\n",
    "        roi_index += 1\n",
    "    if gun_exist:\n",
    "        cv2.putText(frame, \"Guns detected\", (10, 30), cv2.FONT_HERSHEY_SIMPLEX, 0.7, (0, 0, 255), 2)\n",
    "    cv2.putText(frame, datetime.datetime.now().strftime(\"%A %d %B %Y %I:%M:%S %p\"),\n",
    "                (10, frame.shape[0] - 10),\n",
    "                cv2.FONT_HERSHEY_SIMPLEX,\n",
    "                0.35, (0, 0, 255), 1)\n",
    "    cv2.imshow(\"Security Feed\", frame)\n",
    "    key = cv2.waitKey(1) & 0xFF\n",
    "    if key == ord('q'):\n",
    "        break\n",
    "\n",
    "camera.release()\n",
    "cv2.destroyAllWindows()\n"
   ]
  }
 ],
 "metadata": {
  "language_info": {
   "name": "python"
  }
 },
 "nbformat": 4,
 "nbformat_minor": 2
}
